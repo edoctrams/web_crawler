{
  "nbformat": 4,
  "nbformat_minor": 0,
  "metadata": {
    "colab": {
      "provenance": [],
      "authorship_tag": "ABX9TyMdQnRqfg71m3pUVLM+AkIE",
      "include_colab_link": true
    },
    "kernelspec": {
      "name": "python3",
      "display_name": "Python 3"
    },
    "language_info": {
      "name": "python"
    }
  },
  "cells": [
    {
      "cell_type": "markdown",
      "metadata": {
        "id": "view-in-github",
        "colab_type": "text"
      },
      "source": [
        "<a href=\"https://colab.research.google.com/github/edoctrams/web_crawler/blob/main/web_crawler.ipynb\" target=\"_parent\"><img src=\"https://colab.research.google.com/assets/colab-badge.svg\" alt=\"Open In Colab\"/></a>"
      ]
    },
    {
      "cell_type": "markdown",
      "source": [],
      "metadata": {
        "id": "Aaq3_xbbfoiG"
      }
    },
    {
      "cell_type": "markdown",
      "source": [
        "# Step 1: Install Required Library"
      ],
      "metadata": {
        "id": "Dr3Dz4JBfrPh"
      }
    },
    {
      "cell_type": "code",
      "execution_count": 1,
      "metadata": {
        "colab": {
          "base_uri": "https://localhost:8080/"
        },
        "id": "tOTLF38kfjFD",
        "outputId": "4ef7098e-b85a-4e4a-d5ba-9d395c09341d"
      },
      "outputs": [
        {
          "output_type": "stream",
          "name": "stdout",
          "text": [
            "Requirement already satisfied: beautifulsoup4 in /usr/local/lib/python3.11/dist-packages (4.13.4)\n",
            "Requirement already satisfied: soupsieve>1.2 in /usr/local/lib/python3.11/dist-packages (from beautifulsoup4) (2.7)\n",
            "Requirement already satisfied: typing-extensions>=4.0.0 in /usr/local/lib/python3.11/dist-packages (from beautifulsoup4) (4.14.1)\n"
          ]
        }
      ],
      "source": [
        "!pip install beautifulsoup4\n"
      ]
    },
    {
      "cell_type": "markdown",
      "source": [
        "# Step 2: Web Crawler Code"
      ],
      "metadata": {
        "id": "31gIwWHffs8X"
      }
    },
    {
      "cell_type": "code",
      "source": [
        "import requests\n",
        "from bs4 import BeautifulSoup\n",
        "\n",
        "# Step 1: Input a URL\n",
        "url = input(\"Enter a website URL (e.g. https://example.com): \")\n",
        "\n",
        "# Step 2: Fetch HTML content\n",
        "try:\n",
        "    response = requests.get(url)\n",
        "    response.raise_for_status()\n",
        "except requests.exceptions.RequestException as e:\n",
        "    print(f\"Error fetching URL: {e}\")\n",
        "else:\n",
        "    print(\" Page fetched successfully!\")\n",
        "\n",
        "    # Step 3: Parse HTML content\n",
        "    soup = BeautifulSoup(response.text, 'html.parser')\n",
        "\n",
        "    # Step 4: Extract and display all links\n",
        "    links = []\n",
        "    print(\"\\n Links found on the page:\\n\")\n",
        "    for tag in soup.find_all('a', href=True):\n",
        "        href = tag['href']\n",
        "        links.append(href)\n",
        "        print(href)\n",
        "\n",
        "    # Step 5: Save to a .txt file\n",
        "    with open(\"found_links.txt\", \"w\") as file:\n",
        "        for link in links:\n",
        "            file.write(link + \"\\n\")\n",
        "\n",
        "    print(\"\\nSaved all links to `found_links.txt`\")\n"
      ],
      "metadata": {
        "colab": {
          "base_uri": "https://localhost:8080/"
        },
        "id": "duuAK7xxfwPU",
        "outputId": "d6d11c09-3991-42c5-9d60-9fb39b478b6f"
      },
      "execution_count": 2,
      "outputs": [
        {
          "output_type": "stream",
          "name": "stdout",
          "text": [
            "Enter a website URL (e.g. https://example.com): https://google.com\n",
            " Page fetched successfully!\n",
            "\n",
            " Links found on the page:\n",
            "\n",
            "https://www.google.com/imghp?hl=en&tab=wi\n",
            "https://maps.google.com/maps?hl=en&tab=wl\n",
            "https://play.google.com/?hl=en&tab=w8\n",
            "https://www.youtube.com/?tab=w1\n",
            "https://news.google.com/?tab=wn\n",
            "https://mail.google.com/mail/?tab=wm\n",
            "https://drive.google.com/?tab=wo\n",
            "https://www.google.com/intl/en/about/products?tab=wh\n",
            "http://www.google.com/history/optout?hl=en\n",
            "/preferences?hl=en\n",
            "https://accounts.google.com/ServiceLogin?hl=en&passive=true&continue=https://www.google.com/&ec=GAZAAQ\n",
            "/advanced_search?hl=en&authuser=0\n",
            "/intl/en/ads/\n",
            "/services/\n",
            "/intl/en/about.html\n",
            "/intl/en/policies/privacy/\n",
            "/intl/en/policies/terms/\n",
            "\n",
            "Saved all links to `found_links.txt`\n"
          ]
        }
      ]
    }
  ]
}